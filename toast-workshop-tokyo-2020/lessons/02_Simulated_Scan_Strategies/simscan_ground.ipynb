{
 "cells": [
  {
   "cell_type": "markdown",
   "metadata": {
    "toc-hr-collapsed": false
   },
   "source": [
    "# Ground observing schedules"
   ]
  },
  {
   "cell_type": "markdown",
   "metadata": {},
   "source": [
    "In this notebook we learn about creating ground observing schedules."
   ]
  },
  {
   "cell_type": "code",
   "execution_count": null,
   "metadata": {},
   "outputs": [],
   "source": [
    "# Are you using a special reservation for a workshop?\n",
    "# If so, set it here:\n",
    "nersc_reservation = None\n",
    "\n",
    "# Load common tools for all lessons\n",
    "import sys\n",
    "sys.path.insert(0, \"..\")\n",
    "from lesson_tools import (\n",
    "    check_nersc,\n",
    "    fake_focalplane\n",
    ")\n",
    "nersc_host, nersc_repo, nersc_resv = check_nersc(reservation=nersc_reservation)\n",
    "\n",
    "# Capture C++ output in the jupyter cells\n",
    "%reload_ext wurlitzer"
   ]
  },
  {
   "cell_type": "markdown",
   "metadata": {},
   "source": [
    "## First schedule\n",
    "\n",
    "TOAST `pipelines` include a tool called `toast_ground_schedule.py`, also known as the *opportunistic scheduler*.  It builds observing schedules heuristically by building a list of available targets and scheduling and always choosing the highest priority target. `toast_ground_schedule.py` can be used to create site-specific observing schedules subject to a number of constraints. At the minimum, the tool needs the location of the observatory, observing window and at least one target. Here is a minimal example:"
   ]
  },
  {
   "cell_type": "code",
   "execution_count": null,
   "metadata": {},
   "outputs": [],
   "source": [
    "! toast_ground_schedule.py \\\n",
    "    --site-lat \"-22.958064\" \\\n",
    "    --site-lon \"-67.786222\" \\\n",
    "    --site-alt 5200 \\\n",
    "    --site-name Atacama \\\n",
    "    --telescope LAT \\\n",
    "    --start \"2020-01-01 00:00:00\" \\\n",
    "    --stop \"2020-01-01 12:00:00\" \\\n",
    "    --patch-coord C \\\n",
    "    --patch small_patch,1,40,-40,44,-44 \\\n",
    "    --out schedule.txt"
   ]
  },
  {
   "cell_type": "markdown",
   "metadata": {},
   "source": [
    "Let's look at the contents of the schedule file."
   ]
  },
  {
   "cell_type": "code",
   "execution_count": null,
   "metadata": {},
   "outputs": [],
   "source": [
    "! cat schedule.txt"
   ]
  },
  {
   "cell_type": "markdown",
   "metadata": {},
   "source": [
    "The rectangular patch definition takes the form `--patch <name>,<priority>,<RA left>,<DEC top>,<RA right>,<DEC bottom>`. No spaces are allowed in the definition.  Other patch definition formats will be discussed below.\n",
    "\n",
    "The start and stop times are given in UTC.\n",
    "\n",
    "The resulting schedule is a plain ASCII file. The header defines the telescope and each line after that defines a constant elevation scan (CES) with a fixed azimuth range. When a full pass of the target takes longer than allowed observation time, `--ces-max-time`, the CES is broken up into sub passes that use the same observing elevation but adjust the azimuth range.  The above schedule includes 10 passes of the target \"small_patch\" that fit in the given 12-hour observing window. Some passes are split into as many as 4 sub passes, each no longer than 20 minutes (default).\n",
    "\n"
   ]
  },
  {
   "cell_type": "markdown",
   "metadata": {},
   "source": [
    "## Second patch\n",
    "\n",
    "Let's add another patch, this time using the circular patch definition format, set the observing elevation limits and enable Sun avoidance. We'll also increase `ces-max-time` so we get fewer entries in the schedule.  The circular patch format is\n",
    "\n",
    "`--patch <name>,<priority>,<RA>,<DEC>,<radius>`"
   ]
  },
  {
   "cell_type": "code",
   "execution_count": null,
   "metadata": {},
   "outputs": [],
   "source": [
    "! toast_ground_schedule.py \\\n",
    "    --site-lat \"-22.958064\" \\\n",
    "    --site-lon \"-67.786222\" \\\n",
    "    --site-alt 5200 \\\n",
    "    --site-name Atacama \\\n",
    "    --telescope LAT \\\n",
    "    --start \"2020-01-01 00:00:00\" \\\n",
    "    --stop \"2020-01-04 00:00:00\" \\\n",
    "    --patch-coord C \\\n",
    "    --patch small_patch,1,80,-13,10 \\\n",
    "    --patch large_patch,1,80,-33,20 \\\n",
    "    --el-min 30 \\\n",
    "    --el-max 60 \\\n",
    "    --ces-max-time 86400 \\\n",
    "    --sun-avoidance-angle 20 \\\n",
    "    --out schedule.txt \\\n",
    "    --debug\n",
    "\n",
    "! cat schedule.txt"
   ]
  },
  {
   "cell_type": "markdown",
   "metadata": {},
   "source": [
    "Note that we added the `--debug` option to the command line. This produces a helpful diagnostic plot, `patches.png`, that shows the locations of your patches, the Sun, the Moon and their avoidance areas.  The plot is shown below. The motion of the Moon is already apparent in this 3-day schedule.  The Sun (on the right) is effectively stationary.  `--debug` can be expensive, especially if you have lots of patches or request a long observing schedule."
   ]
  },
  {
   "cell_type": "code",
   "execution_count": null,
   "metadata": {},
   "outputs": [],
   "source": [
    "from IPython.display import Image\n",
    "Image(\"patches.png\")"
   ]
  },
  {
   "cell_type": "markdown",
   "metadata": {},
   "source": [
    "We deliberately chose the locations of the patches so that they compete over the observing time.  This allows us to point out some advanced features of the scheduler.  If you examine the very end of the observing schedule, you can note that both `small_patch` and `large_patch` were observed 7 times.  Given that `large_patch` is twice as wide and only takes twice as long to observe, equal number of observations actually implies that `large_patch` will end up with *half* as many hits per sky pixel.\n",
    "\n"
   ]
  },
  {
   "cell_type": "markdown",
   "metadata": {},
   "source": [
    "## Patch priority\n",
    "\n",
    "The scheduler offers two ways to remedy this issue. First, one can simply increase the priority of the large patch to dedicate more observing time to it.  **All things being equal, the number of visits to a given patch is inversely proportional to the `priority` in the patch definition**:"
   ]
  },
  {
   "cell_type": "code",
   "execution_count": null,
   "metadata": {},
   "outputs": [],
   "source": [
    "! toast_ground_schedule.py \\\n",
    "    --site-lat \"-22.958064\" \\\n",
    "    --site-lon \"-67.786222\" \\\n",
    "    --site-alt 5200 \\\n",
    "    --site-name Atacama \\\n",
    "    --telescope LAT \\\n",
    "    --start \"2020-01-01 00:00:00\" \\\n",
    "    --stop \"2020-01-04 00:00:00\" \\\n",
    "    --patch-coord C \\\n",
    "    --patch small_patch,1,80,-13,10 \\\n",
    "    --patch large_patch,0.5,80,-33,20 \\\n",
    "    --el-min 30 \\\n",
    "    --el-max 60 \\\n",
    "    --ces-max-time 86400 \\\n",
    "    --sun-avoidance-angle 20 \\\n",
    "    --out schedule.txt\n",
    "\n",
    "! cat schedule.txt"
   ]
  },
  {
   "cell_type": "markdown",
   "metadata": {},
   "source": [
    "Now the large patch is observed 9 times and the small patch is observed 4 times.  "
   ]
  },
  {
   "cell_type": "markdown",
   "metadata": {},
   "source": [
    "## Equalize area and time\n",
    "\n",
    "Typically we do not use the priority field to normalize the depths.  Instead, the user can balance the integration depths with two command line arguments: `--equalize-area` and `--equalize time`.\n",
    "\n",
    "With `--equalize-area` the scheduler will automatically modulate the user-given priorities with the area of each patch.\n",
    "\n",
    "With `--equalize-time` the scheduler will balance the actual time spent in each patch rather than the number of visits.  There is a difference, because the observing time per pass can vary greatly depending on the patch shape and orientation"
   ]
  },
  {
   "cell_type": "code",
   "execution_count": null,
   "metadata": {},
   "outputs": [],
   "source": [
    "! toast_ground_schedule.py \\\n",
    "    --site-lat \"-22.958064\" \\\n",
    "    --site-lon \"-67.786222\" \\\n",
    "    --site-alt 5200 \\\n",
    "    --site-name Atacama \\\n",
    "    --telescope LAT \\\n",
    "    --start \"2020-01-01 00:00:00\" \\\n",
    "    --stop \"2020-01-04 00:00:00\" \\\n",
    "    --patch-coord C \\\n",
    "    --patch small_patch,1,80,-13,10 \\\n",
    "    --patch large_patch,1,80,-33,20 \\\n",
    "    --el-min 30 \\\n",
    "    --el-max 60 \\\n",
    "    --ces-max-time 86400 \\\n",
    "    --sun-avoidance-angle 20 \\\n",
    "    --equalize-area \\\n",
    "    --equalize-time \\\n",
    "    --out schedule.txt\n",
    "\n",
    "! cat schedule.txt"
   ]
  },
  {
   "cell_type": "markdown",
   "metadata": {},
   "source": [
    "As with the by-hand-modulated priorities, `large_patch` ends up with twice as many visits."
   ]
  },
  {
   "cell_type": "markdown",
   "metadata": {},
   "source": [
    "## Binning the schedule\n",
    "\n",
    "We take an observing schedule from `toast_ground_sim.py` and translate it into a depth map.\n",
    "\n",
    "First, we need a focalplane. If one does not already exist, TOAST `pipelines` includes a tool for generating mock hexagonal focalplanes:"
   ]
  },
  {
   "cell_type": "code",
   "execution_count": null,
   "metadata": {},
   "outputs": [],
   "source": [
    "! toast_fake_focalplane.py --help"
   ]
  },
  {
   "cell_type": "markdown",
   "metadata": {},
   "source": [
    "Now we create a focalplane with 10-degree FOV and a mininimum of 20 pixels:"
   ]
  },
  {
   "cell_type": "code",
   "execution_count": null,
   "metadata": {},
   "outputs": [],
   "source": [
    "! toast_fake_focalplane.py \\\n",
    "    --minpix 20 \\\n",
    "    --out focalplane \\\n",
    "    --fwhm 30 \\\n",
    "    --fov 10 \\\n",
    "    --psd_fknee 5e-2 \\\n",
    "    --psd_NET 1e-3 \\\n",
    "    --psd_alpha 1 \\\n",
    "    --psd_fmin 1e-5"
   ]
  },
  {
   "cell_type": "markdown",
   "metadata": {},
   "source": [
    "The actual focalplane ends up having 37 pixels, instead of the minimum of 20.  This is because regular packing of the hexagon is quantized.  Notice that the final name of the focalplane is `focalplane_37.pkl`.  We'll need the name to run the simulation script.\n",
    "\n",
    "We will use the versatile ground simulation pipeline, `toast_ground_sim.py`, to bin the map.  It will be covered in detail in lesson 7 so here we simply write out a parameter file:"
   ]
  },
  {
   "cell_type": "code",
   "execution_count": null,
   "metadata": {},
   "outputs": [],
   "source": [
    "%%writefile bin_schedule.par\n",
    "--sample-rate\n",
    "10.0\n",
    "--scan-rate\n",
    "0.3\n",
    "--scan-accel\n",
    "10.0\n",
    "--nside\n",
    "64\n",
    "--focalplane\n",
    "focalplane_37.pkl\n",
    "--schedule\n",
    "schedule.txt\n",
    "--out\n",
    "out\n",
    "--simulate-noise\n",
    "--freq\n",
    "100\n",
    "--no-destripe\n",
    "--no-binmap\n",
    "--hits\n",
    "--wcov"
   ]
  },
  {
   "cell_type": "markdown",
   "metadata": {},
   "source": [
    "Then run the pipeline. Because the pipeline uses `libMadam`, an MPI code, we must submit the job to a compute node."
   ]
  },
  {
   "cell_type": "code",
   "execution_count": null,
   "metadata": {},
   "outputs": [],
   "source": [
    "import subprocess as sp\n",
    "\n",
    "command = \"toast_ground_sim.py @bin_schedule.par\"\n",
    "runstr = None\n",
    "\n",
    "if nersc_host is not None:\n",
    "    runstr = \"srun -N 1 -C haswell -n 32 -c 2 --cpu_bind=cores -t 00:05:00\"\n",
    "    if nersc_resv is not None:\n",
    "        runstr = \"{} --reservation {}\".format(runstr, nersc_resv)\n",
    "else:\n",
    "    # Just use mpirun\n",
    "    runstr = \"mpirun -np 4\"\n",
    "\n",
    "runcom = \"{} {}\".format(runstr, command)\n",
    "print(runcom, flush=True)\n",
    "sp.check_call(runcom, stderr=sp.STDOUT, shell=True)\n"
   ]
  },
  {
   "cell_type": "markdown",
   "metadata": {},
   "source": [
    "Let's examine the resulting hits and depth map.  The file naming convention may seem a little awkward but follows from the fact that a single run of `toast_ground_sim.py` may map multiple telescopes, frequencies and time splits."
   ]
  },
  {
   "cell_type": "code",
   "execution_count": null,
   "metadata": {},
   "outputs": [],
   "source": [
    "import matplotlib.pyplot as plt\n",
    "%matplotlib inline\n",
    "import healpy\n",
    "\n",
    "hits = healpy.read_map(\"out/00000000/100/toast_100_telescope_all_time_all_hmap.fits\")\n",
    "hits[hits == 0] = healpy.UNSEEN\n",
    "healpy.mollview(hits, unit=\"hits\", title=\"Total hits\")\n",
    "healpy.graticule(22.5, verbose=False)"
   ]
  },
  {
   "cell_type": "code",
   "execution_count": null,
   "metadata": {},
   "outputs": [],
   "source": [
    "wcov = healpy.read_map(\"out/00000000/100/toast_100_telescope_all_time_all_wcov.fits\")\n",
    "wcov *= 1e12  # from K^2 to uK^2\n",
    "wcov[wcov == 0] = healpy.UNSEEN\n",
    "healpy.mollview(wcov, unit=\"$\\mu$K$^2$\", title=\"White noise variance\", min=1e0, max=1e3)\n",
    "healpy.graticule(22.5, verbose=False)"
   ]
  },
  {
   "cell_type": "markdown",
   "metadata": {
    "toc-hr-collapsed": false
   },
   "source": [
    "## Advanced topics in ground scheduling"
   ]
  },
  {
   "cell_type": "markdown",
   "metadata": {},
   "source": [
    "### Cooler cycle format\n",
    "it is possible to instruct the scheduler to add regular breaks in the schedule to cycle the cooler or to perform other maintenance activities. The cooler cycle is a pseudo patch that the scheduler considers like other targets when deciding what to observe next.  The full syntax is:\n",
    "\n",
    "`--patch <name>,COOLER,<weight>,<power>,<hold_time_min>,<hold_time_max>,<cycle_time>,<az>,<el>`\n",
    "\n",
    "All of the time arguments are given in hours.  The priority of the patch depends on the time since the last cycle occurred. It is `infinity` until `hold_time_min` has elapsed and then begins to decrease according to a power law set by `power`.  Priority at `hold_time_max` is zero."
   ]
  },
  {
   "cell_type": "markdown",
   "metadata": {},
   "source": [
    "### Planet scans\n",
    "\n",
    "The scheduler can target planets just like stationary patches.  The SSO (solar system object) format is\n",
    "\n",
    "`--patch <name>,SSO,<priority>,<radius [deg]>`\n",
    "\n",
    "All orbiting bodies recognized by `pyEphem` are supported."
   ]
  },
  {
   "cell_type": "markdown",
   "metadata": {},
   "source": [
    "### Oscillating patches\n",
    "\n",
    "The scheduler designs the scans so that the azimuth range is kept fixed and the boresight sweeps the entire patch.  This usually implies a certain amount of spillover integration time outside the patch.  This can produce an excess of hits at the boundary of two patches.  The scheduler offers a way to smear the spillover by systematically shifting the position of the patches in RA and DEC.  The arguments to accomplish this are\n",
    "\n",
    "`--ra-period <period [visits]>`\n",
    "\n",
    "`--ra-amplitude <amplitude [deg]>`\n",
    "\n",
    "`--dec-period <period [visits]>`\n",
    "\n",
    "`--dec-amplitude <amplitude [deg]>`\n",
    "\n",
    "Patches will systematically shift after each visit, returning to their fiducial positions after each period."
   ]
  },
  {
   "cell_type": "markdown",
   "metadata": {},
   "source": [
    "### Horizontal (high cadence) patch definition\n",
    "\n",
    "Horizontal patch definition specifies the observing elevation and the azimuth range. The scheduler parks the telescope at the given elevation and scans until the constraints (Sun, Moon, cooler hold time) prevent continuing.  If possible, scanning is continued by switching between rising and setting scan.\n",
    "\n",
    "`--patch <name>,HORIZONTAL,<priority>,<az min [deg]>,<az max [deg]>,<el [deg]>,<scan time [min]>`"
   ]
  },
  {
   "cell_type": "markdown",
   "metadata": {},
   "source": [
    "### Polygon patch definition\n",
    "\n",
    "Patches do not need to be rectangular or circular.  An arbitrary polygon shape can be specified by giving the corner coordinates.\n",
    "\n",
    "`--patch <name>,<priority>,<RA_0 [deg]>,<DEC_0 [deg]>,...,,<RA_N-1 [deg]>,<DEC_N-1 [deg]>`"
   ]
  },
  {
   "cell_type": "markdown",
   "metadata": {},
   "source": [
    "### Elevation penalty\n",
    "\n",
    "Lower observing elevations are subject to higher levels of photon noise from the atmosphere.  It is possible to instruct the scheduler to modulate the relative priorities of the available patches based on their elevation. \n",
    "\n",
    "`--elevation-penalty-limit <elevation [deg]>`\n",
    "\n",
    "`--elevation-penalty-power <power>`\n",
    "\n",
    "If the available patch is below `elevation-penalty-limit`, the priority is modulated by $\\left(\\frac{limit}{elevation}\\right)^{power}$. This way low elevation scans are reserved for targets that cannot be observed at higher elevation or when no targets are available higher."
   ]
  },
  {
   "cell_type": "markdown",
   "metadata": {},
   "source": [
    "### Block-out\n",
    "\n",
    "January and February weather in the Atacama is known to be problematic for observing.  It is possible to instruct the scheduler to skip certain periods of the calendar year with\n",
    "\n",
    "`--block-out <start month>/<start day>-<end month>/<end day>`\n",
    "\n",
    "or with\n",
    "\n",
    "`--block-out <start year>/<start month>/<start day>-<end year>/<end month>/<end day>`\n",
    "\n",
    "All fields are integers.  The dates are in UTC."
   ]
  },
  {
   "cell_type": "markdown",
   "metadata": {},
   "source": [
    "### Gaps\n",
    "\n",
    "The are two short gap lengths in the scheduler\n",
    "\n",
    "`--gap-small <gap [s]>`\n",
    "\n",
    "`--gap <gap [s]>`\n",
    "\n",
    "The `gap-small` is applied when a single CES is broken up into sub scans.  The regular `gap` is applied between separate observations."
   ]
  },
  {
   "cell_type": "markdown",
   "metadata": {},
   "source": [
    "### Pole scheduling\n",
    "\n",
    "Observing from the Poles is unlike anywhere else on Earth.  Patches will not drift across a constant elevation line.  Instead, the telescope must be stepped in elevation.  The Pole scheduling mode is enabled with \n",
    "\n",
    "`--pole-mode`\n",
    "\n",
    "And the step time and size are controlled with\n",
    "\n",
    "`--pole-el-step <step [deg]>`\n",
    "\n",
    "`--pole-ces-time <time [s]>`"
   ]
  },
  {
   "cell_type": "code",
   "execution_count": null,
   "metadata": {},
   "outputs": [],
   "source": [
    "#    --site-lat \"-89:59.464\" \\\n",
    "#    --site-lon \"-44:39\" \\\n",
    "\n",
    "! toast_ground_schedule.py \\\n",
    "    --site-lat \"-89.991\" \\\n",
    "    --site-lon \"-44.65\" \\\n",
    "    --site-alt 2843 \\\n",
    "    --site-name South_Pole \\\n",
    "    --telescope LAT \\\n",
    "    --start \"2020-01-01 00:00:00\" \\\n",
    "    --stop \"2020-01-01 12:00:00\" \\\n",
    "    --patch-coord C \\\n",
    "    --patch small_patch,1,40,-40,44,-44 \\\n",
    "    --pole-mode \\\n",
    "    --pole-el-step 0.25 \\\n",
    "    --pole-ces-time 600 \\\n",
    "    --out pole_schedule.txt"
   ]
  },
  {
   "cell_type": "markdown",
   "metadata": {},
   "source": [
    "The resulting schedule has each pass of the target split into (0.25$^\\circ$, 10min) steps.  It takes 16 steps (2:40h) to cover the 4$^\\circ\\times$4$^\\circ$ degree field."
   ]
  },
  {
   "cell_type": "code",
   "execution_count": null,
   "metadata": {},
   "outputs": [],
   "source": [
    "! cat pole_schedule.txt"
   ]
  },
  {
   "cell_type": "markdown",
   "metadata": {},
   "source": [
    "Let's bin this schedule as well.  We also demonstrate how parameters in the parameter file may be overridden"
   ]
  },
  {
   "cell_type": "code",
   "execution_count": null,
   "metadata": {},
   "outputs": [],
   "source": [
    "command = \"toast_ground_sim.py @bin_schedule.par --schedule pole_schedule.txt --out out_pole\"\n",
    "runstr = None\n",
    "\n",
    "if nersc_host is not None:\n",
    "    runstr = \"srun -N 1 -C haswell -n 32 -c 2 --cpu_bind=cores -t 00:05:00\"\n",
    "    if nersc_resv is not None:\n",
    "        runstr = \"{} --reservation {}\".format(runstr, nersc_resv)\n",
    "else:\n",
    "    # Just use mpirun\n",
    "    runstr = \"mpirun -np 4\"\n",
    "\n",
    "runcom = \"{} {}\".format(runstr, command)\n",
    "print(runcom, flush=True)\n",
    "sp.check_call(runcom, stderr=sp.STDOUT, shell=True)"
   ]
  },
  {
   "cell_type": "code",
   "execution_count": null,
   "metadata": {},
   "outputs": [],
   "source": [
    "hits = healpy.read_map(\"out_pole/00000000/100/toast_100_telescope_all_time_all_hmap.fits\")\n",
    "hits[hits == 0] = healpy.UNSEEN\n",
    "healpy.mollview(hits, unit=\"hits\", title=\"Total hits, Pole\")\n",
    "healpy.graticule(22.5, verbose=False)"
   ]
  },
  {
   "cell_type": "markdown",
   "metadata": {},
   "source": [
    "## Exercises"
   ]
  },
  {
   "cell_type": "markdown",
   "metadata": {},
   "source": [
    "- Go back to the \"Second patch\" section of the notebook and add a third patch of your choosing.  Executing that cell will visualize the patch on the sky.\n",
    "- In the same section, increase the observation length to one month, this will cause the Moon avoidance region to draw a band around the Equator.\n",
    "- In \"Binning the schedule\", try increasing the FOV from 10 degrees to 35, representantive of modern SATs"
   ]
  },
  {
   "cell_type": "code",
   "execution_count": null,
   "metadata": {},
   "outputs": [],
   "source": []
  }
 ],
 "metadata": {
  "kernelspec": {
   "display_name": "CMB 20200115",
   "language": "python",
   "name": "cmbenv-20200115"
  },
  "language_info": {
   "codemirror_mode": {
    "name": "ipython",
    "version": 3
   },
   "file_extension": ".py",
   "mimetype": "text/x-python",
   "name": "python",
   "nbconvert_exporter": "python",
   "pygments_lexer": "ipython3",
   "version": "3.6.9"
  },
  "toc-autonumbering": true
 },
 "nbformat": 4,
 "nbformat_minor": 4
}
