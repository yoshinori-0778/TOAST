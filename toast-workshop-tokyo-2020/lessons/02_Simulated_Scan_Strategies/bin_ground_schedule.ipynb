{
 "cells": [
  {
   "cell_type": "markdown",
   "metadata": {},
   "source": [
    "# Binning a ground schedule\n",
    "\n",
    "In this notebook, we take an observing schedule and use `toast_ground_sim.py` to translate it into a depth map"
   ]
  },
  {
   "cell_type": "code",
   "execution_count": null,
   "metadata": {},
   "outputs": [],
   "source": [
    "# Are you using a special reservation for a workshop?\n",
    "# If so, set it here:\n",
    "nersc_reservation = None\n",
    "\n",
    "# Load common tools for all lessons\n",
    "import sys\n",
    "sys.path.insert(0, \"..\")\n",
    "from lesson_tools import (\n",
    "    check_nersc,\n",
    "    fake_focalplane\n",
    ")\n",
    "nersc_host, nersc_repo, nersc_resv = check_nersc(reservation=nersc_reservation)\n",
    "\n",
    "# Capture C++ output in the jupyter cells\n",
    "%reload_ext wurlitzer"
   ]
  },
  {
   "cell_type": "markdown",
   "metadata": {},
   "source": [
    "First, we need a focalplane. If one does not already exist, TOAST `pipelines` includes a tool for generating mock hexagonal focalplanes:"
   ]
  },
  {
   "cell_type": "code",
   "execution_count": null,
   "metadata": {},
   "outputs": [],
   "source": [
    "! toast_fake_focalplane.py --help"
   ]
  },
  {
   "cell_type": "markdown",
   "metadata": {},
   "source": [
    "Here we create a focalplane with 10-degree FOV and a mininimum of 20 pixels:"
   ]
  },
  {
   "cell_type": "code",
   "execution_count": null,
   "metadata": {},
   "outputs": [],
   "source": [
    "! toast_fake_focalplane.py \\\n",
    "    --minpix 20 \\\n",
    "    --out focalplane \\\n",
    "    --fwhm 30 \\\n",
    "    --fov 10 \\\n",
    "    --psd_fknee 5e-2 \\\n",
    "    --psd_NET 1e-3 \\\n",
    "    --psd_alpha 1 \\\n",
    "    --psd_fmin 1e-5"
   ]
  },
  {
   "cell_type": "markdown",
   "metadata": {},
   "source": [
    "The actual focalplane ends up having 37 pixels, instead of the minimum of 20.  This is because regular packing of the hexagon is quantized.  Notice that the final name of the focalplane is `focalplane_37.pkl`.  We'll need the name to run the simulation script.  We also create the schedule in case it does not yet exist from the other notebook:"
   ]
  },
  {
   "cell_type": "code",
   "execution_count": null,
   "metadata": {},
   "outputs": [],
   "source": [
    "! toast_ground_schedule.py \\\n",
    "    --site-lat \"-22.958064\" \\\n",
    "    --site-lon \"-67.786222\" \\\n",
    "    --site-alt 5200 \\\n",
    "    --site-name Atacama \\\n",
    "    --telescope LAT \\\n",
    "    --start \"2020-01-01 00:00:00\" \\\n",
    "    --stop \"2020-01-01 12:00:00\" \\\n",
    "    --patch-coord C \\\n",
    "    --patch small_patch,1,40,-40,44,-44 \\\n",
    "    --out schedule.txt"
   ]
  },
  {
   "cell_type": "markdown",
   "metadata": {},
   "source": [
    "We will use the versatile ground simulation pipeline, `toast_ground_sim.py`, to bin the map.  It will be covered in detail in lesson 7 so here we simply write out a parameter file:"
   ]
  },
  {
   "cell_type": "code",
   "execution_count": null,
   "metadata": {},
   "outputs": [],
   "source": [
    "%%writefile bin_schedule.par\n",
    "--sample-rate\n",
    "10.0\n",
    "--scan-rate\n",
    "0.3\n",
    "--scan-accel\n",
    "10.0\n",
    "--nside\n",
    "64\n",
    "--focalplane\n",
    "focalplane_37.pkl\n",
    "--schedule\n",
    "schedule.txt\n",
    "--out\n",
    "out\n",
    "--simulate-noise\n",
    "--freq\n",
    "100\n",
    "--no-destripe\n",
    "--no-binmap\n",
    "--hits\n",
    "--wcov"
   ]
  },
  {
   "cell_type": "markdown",
   "metadata": {},
   "source": [
    "Now we run the pipeline in parallel on a compute node:"
   ]
  },
  {
   "cell_type": "code",
   "execution_count": null,
   "metadata": {},
   "outputs": [],
   "source": [
    "import subprocess as sp\n",
    "\n",
    "command = \"toast_ground_sim.py @bin_schedule.par\"\n",
    "runstr = None\n",
    "\n",
    "if nersc_host is not None:\n",
    "    runstr = \"srun -N 1 -C haswell -n 32 -c 2 --cpu_bind=cores -t 00:05:00\"\n",
    "    if nersc_resv is not None:\n",
    "        runstr = \"{} --reservation {}\".format(runstr, nersc_resv)\n",
    "else:\n",
    "    # Just use mpirun\n",
    "    runstr = \"mpirun -np 4\"\n",
    "\n",
    "runcom = \"{} {}\".format(runstr, command)\n",
    "print(runcom, flush=True)\n",
    "sp.check_call(runcom, stderr=sp.STDOUT, shell=True)"
   ]
  },
  {
   "cell_type": "markdown",
   "metadata": {},
   "source": [
    "Let's examine the resulting hits and depth map"
   ]
  },
  {
   "cell_type": "code",
   "execution_count": null,
   "metadata": {},
   "outputs": [],
   "source": [
    "import matplotlib.pyplot as plt\n",
    "%matplotlib inline\n",
    "import healpy\n",
    "\n",
    "hits = healpy.read_map(\"out/00000000/100/toast_100_telescope_all_time_all_hmap.fits\")\n",
    "hits[hits == 0] = healpy.UNSEEN\n",
    "healpy.mollview(hits, unit=\"hits\", title=\"Total hits\")\n",
    "# healpy.graticule(22.5, verbose=False)"
   ]
  },
  {
   "cell_type": "code",
   "execution_count": null,
   "metadata": {},
   "outputs": [],
   "source": [
    "wcov = healpy.read_map(\"out/00000000/100/toast_100_telescope_all_time_all_wcov.fits\")\n",
    "wcov *= 1e12  # from K^2 to uK^2\n",
    "wcov[wcov == 0] = healpy.UNSEEN\n",
    "healpy.mollview(wcov, unit=\"$\\mu$K$^2$\", title=\"White noise variance\", min=1e0, max=1e3)\n",
    "# healpy.graticule(22.5, verbose=False)"
   ]
  },
  {
   "cell_type": "code",
   "execution_count": null,
   "metadata": {},
   "outputs": [],
   "source": []
  }
 ],
 "metadata": {
  "kernelspec": {
   "display_name": "CMB 20200115",
   "language": "python",
   "name": "cmbenv-20200115"
  },
  "language_info": {
   "codemirror_mode": {
    "name": "ipython",
    "version": 3
   },
   "file_extension": ".py",
   "mimetype": "text/x-python",
   "name": "python",
   "nbconvert_exporter": "python",
   "pygments_lexer": "ipython3",
   "version": "3.6.9"
  }
 },
 "nbformat": 4,
 "nbformat_minor": 4
}
