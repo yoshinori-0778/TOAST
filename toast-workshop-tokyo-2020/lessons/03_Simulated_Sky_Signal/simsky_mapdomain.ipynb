{
 "cells": [
  {
   "cell_type": "markdown",
   "metadata": {
    "toc-hr-collapsed": false
   },
   "source": [
    "# Simulated Sky Signal in map domain\n",
    "\n",
    "This lesson is about simulating the input sky signal using PySM 3.\n",
    "\n",
    "## PySM 3\n",
    "\n",
    "If you used `PySM` in the past, you most probably used `PySM 2` from https://github.com/bthorne93/PySM_public.\n",
    "\n",
    "`PySM 3` is a rewrite of `PySM` which offers all the same functionality and the same models of `PySM 2` but is focused on:\n",
    "\n",
    "* improving performance using just-in-time compilation and multi-threading with `numba`\n",
    "* lowering memory requirements by reworking the underlying algorithms\n",
    "* improved capability of running in parallel with MPI\n",
    "\n",
    "It is available from https://github.com/healpy/pysm, it is still missing a few models and the documentation but is already integrated into TOAST to overcame the strong performance limits of `PySM 2`.\n",
    "\n",
    "If anyone is interested in learning more about PySM 3, check the [PySM 3 tutorial](https://github.com/zonca/pysm_tutorial), we can work through this during the hack day."
   ]
  },
  {
   "cell_type": "markdown",
   "metadata": {
    "toc-hr-collapsed": false
   },
   "source": [
    "## PySMSky\n",
    "\n",
    "The lower level TOAST class is `PySMSky`, it performs the following operations:\n",
    "* initialize `PySM` with the input sky configuration\n",
    "* loop through all channels and for each calls `PySM` to generate the sky emission at all frequencies in the bandpass and integrate"
   ]
  },
  {
   "cell_type": "code",
   "execution_count": null,
   "metadata": {},
   "outputs": [],
   "source": [
    "# Load common tools for all lessons\n",
    "import sys\n",
    "sys.path.insert(0, \"..\")\n",
    "from lesson_tools import (\n",
    "    fake_focalplane\n",
    ")\n",
    "\n",
    "# Capture C++ output in the jupyter cells\n",
    "%reload_ext wurlitzer"
   ]
  },
  {
   "cell_type": "code",
   "execution_count": null,
   "metadata": {},
   "outputs": [],
   "source": [
    "import toast\n",
    "import healpy as hp\n",
    "import numpy as np"
   ]
  },
  {
   "cell_type": "code",
   "execution_count": null,
   "metadata": {},
   "outputs": [],
   "source": [
    "env = toast.Environment.get()                         \n",
    "env.set_log_level(\"DEBUG\")"
   ]
  },
  {
   "cell_type": "code",
   "execution_count": null,
   "metadata": {},
   "outputs": [],
   "source": [
    "focal_plane = fake_focalplane()"
   ]
  },
  {
   "cell_type": "code",
   "execution_count": null,
   "metadata": {},
   "outputs": [],
   "source": [
    "from toast.todmap import PySMSky\n",
    "PySMSky?"
   ]
  },
  {
   "cell_type": "code",
   "execution_count": null,
   "metadata": {},
   "outputs": [],
   "source": [
    "NSIDE = 64\n",
    "npix = hp.nside2npix(NSIDE)"
   ]
  },
  {
   "cell_type": "markdown",
   "metadata": {},
   "source": [
    "### PySM models\n",
    "\n",
    "You can find out details about all the models available in PySM 2 and 3 at:\n",
    "\n",
    "https://pysm-public.readthedocs.io/en/latest/models.html"
   ]
  },
  {
   "cell_type": "code",
   "execution_count": null,
   "metadata": {},
   "outputs": [],
   "source": [
    "pysm_sky_config = [\"s1\", \"f1\", \"a1\", \"d1\"]"
   ]
  },
  {
   "cell_type": "code",
   "execution_count": null,
   "metadata": {},
   "outputs": [],
   "source": [
    "pysm_sky = PySMSky(comm=None,\n",
    "       pixel_indices=None,\n",
    "       nside=NSIDE,\n",
    "       units=\"uK_RJ\",\n",
    "       pysm_sky_config=pysm_sky_config\n",
    ")"
   ]
  },
  {
   "cell_type": "code",
   "execution_count": null,
   "metadata": {},
   "outputs": [],
   "source": [
    "pysm_sky"
   ]
  },
  {
   "cell_type": "markdown",
   "metadata": {},
   "source": [
    "### PySM Sky object\n",
    "\n",
    "We can directly access the underlying `PySM.Sky` object as the `sky` attribute of the `PySMSky` object."
   ]
  },
  {
   "cell_type": "code",
   "execution_count": null,
   "metadata": {},
   "outputs": [],
   "source": [
    "pysm_sky.sky"
   ]
  },
  {
   "cell_type": "code",
   "execution_count": null,
   "metadata": {},
   "outputs": [],
   "source": [
    "import pysm.units as u"
   ]
  },
  {
   "cell_type": "code",
   "execution_count": null,
   "metadata": {},
   "outputs": [],
   "source": [
    "pysm_sky.sky.get_emission(12 * u.GHz)"
   ]
  },
  {
   "cell_type": "code",
   "execution_count": null,
   "metadata": {},
   "outputs": [],
   "source": [
    "%matplotlib inline\n",
    "## _ refers to the output of the previous cell, so this works only if you run cells in sequence\n",
    "hp.mollview(_[0], cmap=\"coolwarm\", min=-100, max=1e4)"
   ]
  },
  {
   "cell_type": "markdown",
   "metadata": {},
   "source": [
    "### Execute the PySMSky object\n",
    "\n",
    "First we need bandpasses for the channels, first element of the tuple is frequency, second element are weights, we define a top-hat of 10 points with a bandwidth of 10 GHz:"
   ]
  },
  {
   "cell_type": "code",
   "execution_count": null,
   "metadata": {},
   "outputs": [],
   "source": [
    "bandpasses = {}\n",
    "for ch in focal_plane: # loops through dict keys\n",
    "    bandpasses[ch] = (np.linspace(65, 75, 10), np.ones(10))"
   ]
  },
  {
   "cell_type": "code",
   "execution_count": null,
   "metadata": {},
   "outputs": [],
   "source": [
    "bandpasses"
   ]
  },
  {
   "cell_type": "code",
   "execution_count": null,
   "metadata": {},
   "outputs": [],
   "source": [
    "local_maps = {}\n",
    "pysm_sky.exec(local_maps, out=\"sky\", bandpasses=bandpasses)"
   ]
  },
  {
   "cell_type": "code",
   "execution_count": null,
   "metadata": {},
   "outputs": [],
   "source": [
    "hp.mollview(local_maps[\"sky_0A\"][0], cmap=\"coolwarm\", min=0, max=1e3, unit=\"uK_RJ\")"
   ]
  },
  {
   "cell_type": "code",
   "execution_count": null,
   "metadata": {},
   "outputs": [],
   "source": [
    "local_maps[\"sky_0B\"][0]-local_maps[\"sky_0A\"][0]"
   ]
  },
  {
   "cell_type": "code",
   "execution_count": null,
   "metadata": {},
   "outputs": [],
   "source": [
    "bandpasses[\"0B\"] = (np.linspace(63, 73, 10), np.ones(10))"
   ]
  },
  {
   "cell_type": "code",
   "execution_count": null,
   "metadata": {},
   "outputs": [],
   "source": [
    "local_maps = {}\n",
    "pysm_sky.exec(local_maps, out=\"sky\", bandpasses=bandpasses)"
   ]
  },
  {
   "cell_type": "code",
   "execution_count": null,
   "metadata": {},
   "outputs": [],
   "source": [
    "hp.mollview(local_maps[\"sky_0A\"][0]-local_maps[\"sky_0B\"][0], cmap=\"coolwarm\", unit=\"uK_RJ\")"
   ]
  },
  {
   "cell_type": "code",
   "execution_count": null,
   "metadata": {},
   "outputs": [],
   "source": [
    "hp.gnomview(local_maps[\"sky_0A\"][0]-local_maps[\"sky_0B\"][0], rot=(0,0), xsize=5000, ysize=2000, cmap=\"coolwarm\")"
   ]
  },
  {
   "cell_type": "markdown",
   "metadata": {},
   "source": [
    "## Exercise\n",
    "\n",
    "Create a `PySMSky` object with pure CMB (model `c1`), in `uK_CMB`"
   ]
  },
  {
   "cell_type": "markdown",
   "metadata": {},
   "source": [
    "Get the CMB signal for 2 channels at 2 different frequencies and verify that the maps are the same to double precision error (~1e-14).\n",
    "To specify a channel at a single frequency instead of a bandpass, you can specify:\n",
    "\n",
    "    bandpasses={\"ch0\":(100,1)}\n",
    "    \n",
    "Where the first element of the tuple is frequency in `GHz`, the second its weight."
   ]
  },
  {
   "cell_type": "code",
   "execution_count": null,
   "metadata": {},
   "outputs": [],
   "source": []
  },
  {
   "cell_type": "code",
   "execution_count": null,
   "metadata": {},
   "outputs": [],
   "source": []
  }
 ],
 "metadata": {
  "kernelspec": {
   "display_name": "CMB 20200115",
   "language": "python",
   "name": "cmbenv-20200115"
  },
  "language_info": {
   "codemirror_mode": {
    "name": "ipython",
    "version": 3
   },
   "file_extension": ".py",
   "mimetype": "text/x-python",
   "name": "python",
   "nbconvert_exporter": "python",
   "pygments_lexer": "ipython3",
   "version": "3.6.9"
  },
  "toc-autonumbering": true,
  "toc-showcode": false,
  "toc-showmarkdowntxt": false
 },
 "nbformat": 4,
 "nbformat_minor": 4
}
