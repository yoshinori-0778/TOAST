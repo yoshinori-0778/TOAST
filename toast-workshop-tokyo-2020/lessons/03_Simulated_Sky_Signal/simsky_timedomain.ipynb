{
 "cells": [
  {
   "cell_type": "markdown",
   "metadata": {
    "toc-hr-collapsed": false
   },
   "source": [
    "# Simulated Sky Signal in time domain\n",
    "\n",
    "In this lesson we will use the TOAST Operator `OpSimPySM` to create timestreams for an instrument given a sky model."
   ]
  },
  {
   "cell_type": "code",
   "execution_count": null,
   "metadata": {},
   "outputs": [],
   "source": [
    "# Load common tools for all lessons\n",
    "import sys\n",
    "sys.path.insert(0, \"..\")\n",
    "from lesson_tools import (\n",
    "    fake_focalplane\n",
    ")\n",
    "\n",
    "# Capture C++ output in the jupyter cells\n",
    "%reload_ext wurlitzer"
   ]
  },
  {
   "cell_type": "code",
   "execution_count": null,
   "metadata": {},
   "outputs": [],
   "source": [
    "import toast\n",
    "import healpy as hp\n",
    "import numpy as np"
   ]
  },
  {
   "cell_type": "code",
   "execution_count": null,
   "metadata": {},
   "outputs": [],
   "source": [
    "env = toast.Environment.get()                         \n",
    "env.set_log_level(\"DEBUG\")"
   ]
  },
  {
   "cell_type": "markdown",
   "metadata": {},
   "source": [
    "## Scanning strategy\n",
    "\n",
    "Before being able to scan a map into a timestream we need to define a scanning strategy\n",
    "and get pointing information for each channel.\n",
    "\n",
    "We use the same **satellite** scanning used in lesson 2 about scanning strategies,\n",
    "see the `02_Simulated_Scan_Strategies/simscan_satellite.ipynb` for more details."
   ]
  },
  {
   "cell_type": "code",
   "execution_count": null,
   "metadata": {},
   "outputs": [],
   "source": [
    "focal_plane = fake_focalplane()"
   ]
  },
  {
   "cell_type": "code",
   "execution_count": null,
   "metadata": {},
   "outputs": [],
   "source": [
    "focal_plane.keys()"
   ]
  },
  {
   "cell_type": "code",
   "execution_count": null,
   "metadata": {},
   "outputs": [],
   "source": [
    "focal_plane[\"0A\"][\"fwhm_arcmin\"]"
   ]
  },
  {
   "cell_type": "code",
   "execution_count": null,
   "metadata": {},
   "outputs": [],
   "source": [
    "# Scan parameters\n",
    "\n",
    "alpha = 50.0      # precession opening angle, degrees\n",
    "beta = 45.0       # spin opening angle, degrees\n",
    "p_alpha = 25.0    # precession period, minutes\n",
    "p_beta = 1.25     # spin period, minutes\n",
    "samplerate = 0.5  # sample rate, Hz\n",
    "hwprpm = 5.0      # HWP rotation in RPM\n",
    "nside = 64        # Healpix NSIDE\n",
    "\n",
    "# We will use one observation per day, with no gaps in between, and\n",
    "# run for one year.\n",
    "\n",
    "obs_samples = int(24 * 3600.0 * samplerate) - 1\n",
    "nobs = 366\n",
    "\n",
    "# Slew the precession axis so that it completes one circle\n",
    "\n",
    "deg_per_day = 360.0 / nobs"
   ]
  },
  {
   "cell_type": "code",
   "execution_count": null,
   "metadata": {},
   "outputs": [],
   "source": [
    "from toast.todmap import TODSatellite, slew_precession_axis"
   ]
  },
  {
   "cell_type": "code",
   "execution_count": null,
   "metadata": {},
   "outputs": [],
   "source": [
    "detquat = {ch: focal_plane[ch][\"quat\"] for ch in focal_plane}"
   ]
  },
  {
   "cell_type": "code",
   "execution_count": null,
   "metadata": {},
   "outputs": [],
   "source": [
    "# Create distributed data\n",
    "\n",
    "comm = toast.Comm()\n",
    "data = toast.Data(comm)\n",
    "\n",
    "# Append observations\n",
    "\n",
    "for ob in range(nobs):\n",
    "    obsname = \"{:03d}\".format(ob)\n",
    "    obsfirst = ob * (obs_samples + 1)\n",
    "    obsstart = 24 * 3600.0\n",
    "    tod = TODSatellite(\n",
    "        comm.comm_group, \n",
    "        detquat, \n",
    "        obs_samples, \n",
    "        firstsamp=obsfirst,\n",
    "        firsttime=obsstart,\n",
    "        rate=samplerate,\n",
    "        spinperiod=p_beta,\n",
    "        spinangle=beta,\n",
    "        precperiod=p_alpha,\n",
    "        precangle=alpha,\n",
    "        coord=\"E\",\n",
    "        hwprpm=hwprpm\n",
    "    )\n",
    "    qprec = np.empty(4 * tod.local_samples[1], dtype=np.float64).reshape((-1, 4))\n",
    "    slew_precession_axis(\n",
    "        qprec,\n",
    "        firstsamp=obsfirst,\n",
    "        samplerate=samplerate,\n",
    "        degday=deg_per_day,\n",
    "    )\n",
    "    tod.set_prec_axis(qprec=qprec)\n",
    "    obs = dict()\n",
    "    obs[\"tod\"] = tod\n",
    "    data.obs.append(obs)"
   ]
  },
  {
   "cell_type": "code",
   "execution_count": null,
   "metadata": {},
   "outputs": [],
   "source": [
    "from toast.todmap import (\n",
    "    OpPointingHpix,\n",
    "    OpAccumDiag\n",
    ")\n",
    "from toast.map import (\n",
    "    DistPixels\n",
    ")\n",
    "\n",
    "# Make a simple pointing matrix\n",
    "\n",
    "pointing = OpPointingHpix(nside=nside, nest=True, mode=\"IQU\")\n",
    "pointing.exec(data)\n",
    "\n",
    "# Construct a distributed map to store the hit map\n",
    "\n",
    "npix = 12 * nside**2\n",
    "\n",
    "hits = DistPixels(\n",
    "    data,\n",
    "    nnz=1,\n",
    "    dtype=np.int64,\n",
    ")\n",
    "hits.data.fill(0)\n",
    "\n",
    "# Accumulate the hit map locally\n",
    "\n",
    "build_hits = OpAccumDiag(hits=hits)\n",
    "build_hits.exec(data)\n",
    "\n",
    "# Reduce the map across processes (a No-op in this case)\n",
    "\n",
    "hits.allreduce()"
   ]
  },
  {
   "cell_type": "code",
   "execution_count": null,
   "metadata": {},
   "outputs": [],
   "source": [
    "%matplotlib inline\n",
    "hp.mollview(hits.data.flatten(), nest=True)"
   ]
  },
  {
   "cell_type": "markdown",
   "metadata": {},
   "source": [
    "## Define PySM parameters and instrument bandpasses\n",
    "\n",
    "Then we define the sky model parameters, choosing the desired set of `PySM` models and then we specify the band center and the bandwidth for a top-hat bandpass.\n",
    "Currently top-hat bandpasses are the only type supported by the operator, in the future we will implement arbitrary bandpasses.\n",
    "\n",
    "Then bandpass parameters can be added directly to the `focal_plane` dictionary:"
   ]
  },
  {
   "cell_type": "code",
   "execution_count": null,
   "metadata": {},
   "outputs": [],
   "source": [
    "for ch in focal_plane:\n",
    "    focal_plane[ch][\"bandcenter_ghz\"] = 70                                                                                              \n",
    "    focal_plane[ch][\"bandwidth_ghz\"] = 10\n",
    "    focal_plane[ch][\"fwhm\"] = 60*2"
   ]
  },
  {
   "cell_type": "code",
   "execution_count": null,
   "metadata": {},
   "outputs": [],
   "source": [
    "pysm_sky_config = [\"s1\", \"f1\", \"a1\", \"d1\"]"
   ]
  },
  {
   "cell_type": "markdown",
   "metadata": {},
   "source": [
    "## Run the OpSimPySM operator\n",
    "\n",
    "The `OpSimPySM` operator:\n",
    "  * Creates top-hat bandpasses arrays (frequency axis and weights) as expected by `PySM`\n",
    "  * Loops by channel and for each:\n",
    "      * Creates a `PySMSky` object just with 1 channel at a time\n",
    "      * Executes `PySMSky` to evaluate the sky models and bandpass-integrate\n",
    "      * Calls `PySM` to perform distributed smoothing with `libsharp`\n",
    "      * Gathers the map on the first MPI process\n",
    "      * Applies coordinate transformation if necessary (not currently implemented in `libsharp`)\n",
    "      * Use the `DistMap` object to communicate to each process the part of the sky they observe \n",
    "      * Calls `OpSimScan` to rescan the map to a timeline"
   ]
  },
  {
   "cell_type": "code",
   "execution_count": null,
   "metadata": {},
   "outputs": [],
   "source": [
    "from toast.todmap import OpSimPySM\n",
    "OpSimPySM?"
   ]
  },
  {
   "cell_type": "code",
   "execution_count": null,
   "metadata": {},
   "outputs": [],
   "source": [
    "opsim_pysm = OpSimPySM(\n",
    "    data,\n",
    "    comm=None,\n",
    "    pysm_model=pysm_sky_config,\n",
    "    apply_beam=True,\n",
    "    debug=True,\n",
    "    focalplanes=[focal_plane],\n",
    ")"
   ]
  },
  {
   "cell_type": "code",
   "execution_count": null,
   "metadata": {},
   "outputs": [],
   "source": [
    "opsim_pysm.exec(data)"
   ]
  },
  {
   "cell_type": "markdown",
   "metadata": {},
   "source": [
    "### Plot output timelines"
   ]
  },
  {
   "cell_type": "code",
   "execution_count": null,
   "metadata": {},
   "outputs": [],
   "source": [
    "%matplotlib inline\n",
    "import matplotlib.pyplot as plt"
   ]
  },
  {
   "cell_type": "code",
   "execution_count": null,
   "metadata": {},
   "outputs": [],
   "source": [
    "tod = data.obs[0]['tod']"
   ]
  },
  {
   "cell_type": "code",
   "execution_count": null,
   "metadata": {},
   "outputs": [],
   "source": [
    "pix = tod.cache.reference(\"pixels_0A\")"
   ]
  },
  {
   "cell_type": "code",
   "execution_count": null,
   "metadata": {},
   "outputs": [],
   "source": [
    "import toast.qarray as qa\n",
    "theta, phi, pa = qa.to_angles(tod.read_pntg(detector=\"0A\"))"
   ]
  },
  {
   "cell_type": "code",
   "execution_count": null,
   "metadata": {},
   "outputs": [],
   "source": [
    "pix"
   ]
  },
  {
   "cell_type": "code",
   "execution_count": null,
   "metadata": {},
   "outputs": [],
   "source": [
    "num = 10000\n",
    "plt.figure(figsize=(7, 5))\n",
    "plt.plot(np.degrees(theta[:num]), tod.cache.reference(\"signal_0A\")[:num], \".\")\n",
    "plt.xlabel(\"$Colatitude [deg]$\")\n",
    "plt.ylabel(\"$Signal [ \\mu K_{RJ} ]$\");"
   ]
  },
  {
   "cell_type": "markdown",
   "metadata": {},
   "source": [
    "### Bin the output to a map"
   ]
  },
  {
   "cell_type": "code",
   "execution_count": null,
   "metadata": {},
   "outputs": [],
   "source": [
    "from numba import njit"
   ]
  },
  {
   "cell_type": "code",
   "execution_count": null,
   "metadata": {},
   "outputs": [],
   "source": [
    "@njit\n",
    "def just_make_me_a_map(output_map, signals):\n",
    "    \"\"\"Temperature only binner\n",
    "    \n",
    "    Bins a list of (pix, signal) tuples into an output map,\n",
    "    it does not support polarization, so it just averages it out.\n",
    "    \n",
    "    Parameters\n",
    "    ----------\n",
    "    output_map : np.array\n",
    "        already zeroed output map\n",
    "    signals : numba.typed.List of (np.array[int64] pix, np.array[np.double] signal)\n",
    "    \n",
    "    Returns\n",
    "    -------\n",
    "    hits : np.array[np.int64]\n",
    "        hitmap\n",
    "    \"\"\"\n",
    "    hits = np.zeros(len(output_map), dtype=np.int64)\n",
    "    for pix, signal in signals:\n",
    "        for p,s in zip(pix, signal):\n",
    "            output_map[p] += s\n",
    "            hits[p] += 1\n",
    "    output_map[hits != 0] /= hits[hits != 0]\n",
    "    return hits"
   ]
  },
  {
   "cell_type": "code",
   "execution_count": null,
   "metadata": {},
   "outputs": [],
   "source": [
    "from numba.typed import List\n",
    "\n",
    "signals = List()\n",
    "for obs in data.obs:\n",
    "    for ch in focal_plane:\n",
    "        signals.append((obs[\"tod\"].cache.reference(\"pixels_%s\" % ch), obs[\"tod\"].cache.reference(\"signal_%s\" % ch)))"
   ]
  },
  {
   "cell_type": "code",
   "execution_count": null,
   "metadata": {},
   "outputs": [],
   "source": [
    "output_map = np.zeros(npix, dtype=np.double)\n",
    "h = just_make_me_a_map(output_map, signals)"
   ]
  },
  {
   "cell_type": "code",
   "execution_count": null,
   "metadata": {},
   "outputs": [],
   "source": [
    "hp.mollview(h, title=\"hitmap\", nest=True)"
   ]
  },
  {
   "cell_type": "code",
   "execution_count": null,
   "metadata": {},
   "outputs": [],
   "source": [
    "hp.mollview(output_map, nest=True, min=0, max=1e-3, cmap=\"coolwarm\")"
   ]
  },
  {
   "cell_type": "code",
   "execution_count": null,
   "metadata": {},
   "outputs": [],
   "source": [
    "hp.gnomview(output_map, rot=(0,0), xsize=5000, ysize=2000, cmap=\"coolwarm\", nest=True, min=0, max=1e-2)"
   ]
  },
  {
   "cell_type": "markdown",
   "metadata": {},
   "source": [
    "### Custom sky components\n",
    "\n",
    "* `pysm_component_objects`: pass custom PySM component objects, see for example the [WebSkyCIB](https://so-pysm-models.readthedocs.io/en/latest/api/so_pysm_models.WebSkyCIB.html#so_pysm_models.WebSkyCIB) model in the [so_pysm_models](https://github.com/simonsobs/so_pysm_models) repository, it provides a Cosmic Infrared Background computed from "
   ]
  },
  {
   "cell_type": "code",
   "execution_count": null,
   "metadata": {},
   "outputs": [],
   "source": []
  }
 ],
 "metadata": {
  "kernelspec": {
   "display_name": "CMB 20200115",
   "language": "python",
   "name": "cmbenv-20200115"
  },
  "language_info": {
   "codemirror_mode": {
    "name": "ipython",
    "version": 3
   },
   "file_extension": ".py",
   "mimetype": "text/x-python",
   "name": "python",
   "nbconvert_exporter": "python",
   "pygments_lexer": "ipython3",
   "version": "3.6.9"
  },
  "toc-autonumbering": true,
  "toc-showcode": false,
  "toc-showmarkdowntxt": false
 },
 "nbformat": 4,
 "nbformat_minor": 4
}
