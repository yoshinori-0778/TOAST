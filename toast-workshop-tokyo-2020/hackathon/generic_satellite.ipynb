{
 "cells": [
  {
   "cell_type": "markdown",
   "metadata": {},
   "source": [
    "# Template for hackathon projects\n",
    "\n",
    "This notebook simulates a generic satellite experiment in a way that can be easily customized for your project"
   ]
  },
  {
   "cell_type": "code",
   "execution_count": null,
   "metadata": {},
   "outputs": [],
   "source": [
    "import os\n",
    "import sys\n",
    "\n",
    "import healpy as hp\n",
    "import matplotlib.pyplot as plt\n",
    "%matplotlib inline\n",
    "import numpy as np\n",
    "\n",
    "import toast\n",
    "import toast.pipeline_tools\n",
    "from toast.mpi import MPI\n",
    "\n",
    "\n",
    "# Are you using a special reservation for a workshop?\n",
    "# If so, set it here:\n",
    "nersc_reservation = None\n",
    "\n",
    "# Load common tools for all lessons\n",
    "import sys\n",
    "sys.path.insert(0, \"../lessons\")\n",
    "from lesson_tools import (\n",
    "    check_nersc,\n",
    "    fake_focalplane\n",
    ")\n",
    "nersc_host, nersc_repo, nersc_resv = check_nersc(reservation=nersc_reservation)\n",
    "\n",
    "# Capture C++ output in the jupyter cells\n",
    "%reload_ext wurlitzer"
   ]
  },
  {
   "cell_type": "markdown",
   "metadata": {},
   "source": [
    "## Parameters\n",
    "\n",
    "These arguments control the entire notebook"
   ]
  },
  {
   "cell_type": "code",
   "execution_count": null,
   "metadata": {},
   "outputs": [],
   "source": [
    "class args:\n",
    "    sample_rate = 10  # Hz\n",
    "    nsample_obs = 10000  # length of an observation in samples\n",
    "    nobs = 12  # Number of observations\n",
    "    # Noise parameters\n",
    "    fknee = 1.0\n",
    "    alpha = 2\n",
    "    # half-wave plate\n",
    "    hwp_rpm = None\n",
    "    hwp_step_deg = None\n",
    "    hwp_step_time_s = None\n",
    "    # Scanning parameters\n",
    "    spin_period_min = 1 # 10\n",
    "    spin_angle_deg = 20 # 30\n",
    "    prec_period_min = 100 # 50\n",
    "    prec_angle_deg = 30 # 65\n",
    "    fov = 3.0  # Field-of-view in degrees\n",
    "    # Projection parameters\n",
    "    coord = \"E\"\n",
    "    nside = 64\n",
    "    mode = \"IQU\"\n",
    "    outdir = \"maps\""
   ]
  },
  {
   "cell_type": "markdown",
   "metadata": {},
   "source": [
    "## Focalplane"
   ]
  },
  {
   "cell_type": "code",
   "execution_count": null,
   "metadata": {},
   "outputs": [],
   "source": [
    "focalplane = toast.pipeline_tools.Focalplane(\n",
    "    fake_focalplane(fov=args.fov, fknee=args.fknee, alpha=args.alpha),\n",
    "    sample_rate=args.sample_rate, \n",
    ")"
   ]
  },
  {
   "cell_type": "markdown",
   "metadata": {},
   "source": [
    "## TODSatellite to `toast.data`"
   ]
  },
  {
   "cell_type": "code",
   "execution_count": null,
   "metadata": {},
   "outputs": [],
   "source": [
    "mpiworld, procs, rank = toast.mpi.get_world()\n",
    "comm = toast.mpi.Comm(mpiworld)\n",
    "\n",
    "data = toast.Data(comm)\n",
    "\n",
    "start_sample = 0\n",
    "start_time = 0\n",
    "for iobs in range(args.nobs):    \n",
    "    tod = toast.todmap.TODSatellite(\n",
    "        comm.comm_group,\n",
    "        focalplane.detquats,\n",
    "        args.nsample_obs,\n",
    "        coord=args.coord,\n",
    "        firstsamp=start_sample,\n",
    "        firsttime=start_time,\n",
    "        rate=args.sample_rate,\n",
    "        spinperiod=args.spin_period_min,\n",
    "        spinangle=args.spin_angle_deg,\n",
    "        precperiod=args.prec_period_min,\n",
    "        precangle=args.prec_angle_deg,\n",
    "        detranks=comm.group_size,\n",
    "        hwprpm=args.hwp_rpm,\n",
    "        hwpstep=args.hwp_step_deg,\n",
    "        hwpsteptime=args.hwp_step_time_s,\n",
    "    )\n",
    "\n",
    "    # Constantly slewing precession axis                                                                                                                                             \n",
    "    precquat = np.empty(4 * tod.local_samples[1], dtype=np.float64).reshape((-1, 4))\n",
    "    toast.todmap.slew_precession_axis(\n",
    "        precquat,\n",
    "        firstsamp=start_sample + tod.local_samples[0],\n",
    "        samplerate=args.sample_rate,\n",
    "        degday=360.0 / 365.25,\n",
    "    )\n",
    "    tod.set_prec_axis(qprec=precquat)\n",
    "\n",
    "    obs = {}\n",
    "    obs[\"name\"] = \"science_{:05d}\".format(iobs)\n",
    "    obs[\"tod\"] = tod\n",
    "    obs[\"intervals\"] = None\n",
    "    obs[\"baselines\"] = None\n",
    "    obs[\"noise\"] = focalplane.noise\n",
    "    obs[\"id\"] = iobs\n",
    "\n",
    "    data.obs.append(obs)\n",
    "    \n",
    "    start_sample += args.nsample_obs\n",
    "    start_time += args.nsample_obs / args.sample_rate"
   ]
  },
  {
   "cell_type": "markdown",
   "metadata": {},
   "source": [
    "## Pointing matrix\n",
    "\n",
    "Here we translate the boresight quaternions into detector pointing (pixels numbers and Stokes weights)."
   ]
  },
  {
   "cell_type": "code",
   "execution_count": null,
   "metadata": {},
   "outputs": [],
   "source": [
    "toast.todmap.OpPointingHpix(nside=args.nside, nest=True, mode=args.mode).exec(data)"
   ]
  },
  {
   "cell_type": "markdown",
   "metadata": {},
   "source": [
    "Make a boolean hit map for diagnostics"
   ]
  },
  {
   "cell_type": "code",
   "execution_count": null,
   "metadata": {},
   "outputs": [],
   "source": [
    "npix = 12 * args.nside ** 2\n",
    "hitmap = np.zeros(npix)\n",
    "for obs in data.obs:\n",
    "    tod = obs[\"tod\"]\n",
    "    for det in tod.local_dets:\n",
    "        pixels = tod.cache.reference(\"pixels_{}\".format(det))\n",
    "        hitmap[pixels] = 1\n",
    "hitmap[hitmap == 0] = hp.UNSEEN\n",
    "hp.mollview(hitmap, nest=True, title=\"all hit pixels\", cbar=False)\n",
    "hp.graticule(22.5, verbose=False)"
   ]
  },
  {
   "cell_type": "markdown",
   "metadata": {},
   "source": [
    "## Sky signal\n",
    "\n",
    "Create a synthetic Gaussian map to scan as input signal"
   ]
  },
  {
   "cell_type": "code",
   "execution_count": null,
   "metadata": {},
   "outputs": [],
   "source": [
    "lmax = args.nside * 2\n",
    "cls = np.zeros([4, lmax + 1])\n",
    "cls[0] = 1e0\n",
    "sim_map = hp.synfast(cls, args.nside, lmax=lmax, fwhm=np.radians(15), new=True)\n",
    "plt.figure(figsize=[12, 8])\n",
    "for i, m in enumerate(sim_map):\n",
    "    hp.mollview(sim_map[i], cmap=\"coolwarm\", title=\"Input signal {}\".format(\"IQU\"[i]), sub=[1, 3, 1+i])\n",
    "hp.write_map(\"sim_map.fits\", hp.reorder(sim_map, r2n=True), nest=True, overwrite=True)"
   ]
  },
  {
   "cell_type": "markdown",
   "metadata": {},
   "source": [
    "Scan the sky signal"
   ]
  },
  {
   "cell_type": "code",
   "execution_count": null,
   "metadata": {},
   "outputs": [],
   "source": [
    "full_name = \"signal\"\n",
    "sky_name = \"sky_signal\"\n",
    "\n",
    "# Clear any lingering sky signal from the buffers\n",
    "toast.tod.OpCacheClear(full_name).exec(data)\n",
    "\n",
    "distmap = toast.map.DistPixels(\n",
    "    data,\n",
    "    nnz=len(args.mode),\n",
    "    dtype=np.float32,\n",
    ")\n",
    "distmap.read_healpix_fits(\"sim_map.fits\")\n",
    "toast.todmap.OpSimScan(distmap=distmap, out=full_name).exec(data)\n",
    "\n",
    "# Copy the sky signal, just in case we need it later\n",
    "\n",
    "toast.tod.OpCacheCopy(input=full_name, output=sky_name, force=True).exec(data)"
   ]
  },
  {
   "cell_type": "markdown",
   "metadata": {},
   "source": [
    "## Noise\n",
    "\n",
    "Simulate noise and make a copy of signal+noise in case we need it later"
   ]
  },
  {
   "cell_type": "code",
   "execution_count": null,
   "metadata": {},
   "outputs": [],
   "source": [
    "copy_name = \"signal_copy\"\n",
    "\n",
    "toast.tod.OpSimNoise(out=full_name, realization=0).exec(data)\n",
    "\n",
    "toast.tod.OpCacheCopy(input=full_name, output=copy_name, force=True).exec(data)"
   ]
  },
  {
   "cell_type": "markdown",
   "metadata": {},
   "source": [
    "## Your own operator here\n",
    "\n",
    "Here we define an empty operator you can work with"
   ]
  },
  {
   "cell_type": "code",
   "execution_count": null,
   "metadata": {},
   "outputs": [],
   "source": [
    "class MyOperator(toast.Operator):\n",
    "    def __init__(self, name=\"signal\"):\n",
    "        \"\"\" Arguments:\n",
    "        name(str) : Cache prefix to operate on\n",
    "        \"\"\"\n",
    "        self._name = name\n",
    "    \n",
    "    def exec(self, data):\n",
    "        # We loop here over all local data but do nothing with it.\n",
    "        for obs in data.obs:\n",
    "            tod = obs[\"tod\"]\n",
    "            for det in tod.local_dets:\n",
    "                signal = tod.local_signal(det, self._name)\n",
    "                signal *= 2"
   ]
  },
  {
   "cell_type": "markdown",
   "metadata": {},
   "source": [
    "Then we apply the operator to the data"
   ]
  },
  {
   "cell_type": "code",
   "execution_count": null,
   "metadata": {},
   "outputs": [],
   "source": [
    "toast.tod.OpCacheCopy(input=copy_name, output=full_name, force=True).exec(data)\n",
    "MyOperator(name=full_name).exec(data)"
   ]
  },
  {
   "cell_type": "markdown",
   "metadata": {},
   "source": [
    "Plot a short segment of the signal before and after the operator"
   ]
  },
  {
   "cell_type": "code",
   "execution_count": null,
   "metadata": {},
   "outputs": [],
   "source": [
    "tod = data.obs[0][\"tod\"]\n",
    "times = tod.local_times()\n",
    "\n",
    "fig = plt.figure(figsize=[12, 8])\n",
    "for idet, det in enumerate(tod.local_dets):\n",
    "    cflags = tod.local_common_flags()\n",
    "    before = tod.local_signal(det, copy_name)\n",
    "    after = tod.local_signal(det, full_name)\n",
    "\n",
    "    ind = slice(0, 1000)\n",
    "    # Flag out turnarounds\n",
    "    good = cflags[ind] == 0\n",
    "    ax = fig.add_subplot(4, 4, 1 + idet)\n",
    "    ax.set_title(det)\n",
    "    ax.plot(times[ind][good], before[ind][good], '.', label=\"before\")\n",
    "    ax.plot(times[ind][good], after[ind][good], '.', label=\"after\")\n",
    "ax.legend(bbox_to_anchor=(1.1, 1.00))\n",
    "fig.subplots_adjust(hspace=0.6)"
   ]
  },
  {
   "cell_type": "markdown",
   "metadata": {},
   "source": [
    "## Make a map\n",
    "\n",
    "Destripe the signal and make a map.  We use the nascent TOAST mapmaker because it can be run in serial mode without MPI.  The TOAST mapmaker is still significantly slower so production runs should used `libMadam`."
   ]
  },
  {
   "cell_type": "code",
   "execution_count": null,
   "metadata": {},
   "outputs": [],
   "source": [
    "# Always begin mapmaking by copying the simulated signal.\n",
    "\n",
    "destriped_name = \"destriped\"\n",
    "toast.tod.OpCacheCopy(input=full_name, output=destriped_name, force=True).exec(data)\n",
    "\n",
    "mapmaker = toast.todmap.OpMapMaker(\n",
    "    nside=args.nside,\n",
    "    nnz=3,\n",
    "    name=destriped_name,\n",
    "    outdir=args.outdir,\n",
    "    outprefix=\"toast_test_\",\n",
    "    baseline_length=10,\n",
    "    iter_max=100,\n",
    "    use_noise_prior=False,\n",
    ")\n",
    "mapmaker.exec(data)"
   ]
  },
  {
   "cell_type": "markdown",
   "metadata": {},
   "source": [
    "Plot a segment of the timelines"
   ]
  },
  {
   "cell_type": "code",
   "execution_count": null,
   "metadata": {},
   "outputs": [],
   "source": [
    "tod = data.obs[0][\"tod\"]\n",
    "times = tod.local_times()\n",
    "\n",
    "fig = plt.figure(figsize=[12, 8])\n",
    "for idet, det in enumerate(tod.local_dets):\n",
    "    sky = tod.local_signal(det, sky_name)\n",
    "    full = tod.local_signal(det, full_name)\n",
    "    destriped = tod.local_signal(det, destriped_name)\n",
    "\n",
    "    ind = slice(0, 1000)\n",
    "    ax = fig.add_subplot(4, 4, 1 + idet)\n",
    "    ax.set_title(det)\n",
    "    ax.plot(times[ind], sky[ind], '.', label=\"sky\", zorder=100)\n",
    "    ax.plot(times[ind], full[ind] - sky[ind], '.', label=\"noise\")\n",
    "    ax.plot(times[ind], full[ind] - destriped[ind], '.', label=\"baselines\")\n",
    "ax.legend(bbox_to_anchor=(1.1, 1.00))\n",
    "fig.subplots_adjust(hspace=0.6)\n"
   ]
  },
  {
   "cell_type": "code",
   "execution_count": null,
   "metadata": {},
   "outputs": [],
   "source": [
    "fig = plt.figure(figsize=[12, 8])\n",
    "for idet, det in enumerate(tod.local_dets):\n",
    "    sky = tod.local_signal(det, sky_name)\n",
    "    full = tod.local_signal(det, copy_name)\n",
    "    destriped = tod.local_signal(det, destriped_name)\n",
    "    ax = fig.add_subplot(4, 4, 1 + idet)\n",
    "    ax.set_title(det)\n",
    "    #plt.plot(times[ind], sky[ind], '-', label=\"signal\", zorder=100)\n",
    "    plt.plot(times, full - sky, '.', label=\"noise\")\n",
    "    plt.plot(times, full - destriped, '.', label=\"baselines\")\n",
    "ax.legend(bbox_to_anchor=(1.1, 1.00))\n",
    "fig.subplots_adjust(hspace=.6)"
   ]
  },
  {
   "cell_type": "code",
   "execution_count": null,
   "metadata": {},
   "outputs": [],
   "source": [
    "plt.figure(figsize=[16, 8])\n",
    "\n",
    "hitmap = hp.read_map(\"maps/toast_test_hits.fits\", verbose=False)\n",
    "hitmap[hitmap == 0] = hp.UNSEEN\n",
    "hp.mollview(hitmap, sub=[2, 2, 1], title=\"hits\")\n",
    "\n",
    "binmap = hp.read_map(\"maps/toast_test_binned.fits\", verbose=False)\n",
    "binmap[binmap == 0] = hp.UNSEEN\n",
    "hp.mollview(binmap, sub=[2, 2, 2], title=\"binned map\", cmap=\"coolwarm\")\n",
    "\n",
    "# Fix the plotting range for input signal and the destriped map\n",
    "amp = 3.0\n",
    "\n",
    "destriped = hp.read_map(\"maps/toast_test_destriped.fits\", verbose=False)\n",
    "destriped[destriped == 0] = hp.UNSEEN\n",
    "# Remove monopole\n",
    "good = destriped != hp.UNSEEN\n",
    "destriped[good] -= np.median(destriped[good])\n",
    "hp.mollview(destriped, sub=[2, 2, 3], title=\"destriped map\", cmap=\"coolwarm\", min=-amp, max=amp)\n",
    "\n",
    "inmap = hp.read_map(\"sim_map.fits\", verbose=False)\n",
    "inmap[hitmap == hp.UNSEEN] = hp.UNSEEN\n",
    "hp.mollview(inmap, sub=[2, 2, 4], title=\"input map\", cmap=\"coolwarm\", min=-amp, max=amp)\n"
   ]
  },
  {
   "cell_type": "code",
   "execution_count": null,
   "metadata": {},
   "outputs": [],
   "source": [
    "# Plot the white noise covariance\n",
    "\n",
    "plt.figure(figsize=[12, 8])\n",
    "wcov = hp.read_map(\"maps/toast_test_npp.fits\", None)\n",
    "wcov[:, wcov[0] == 0] = hp.UNSEEN\n",
    "hp.mollview(wcov[0], sub=[3, 3, 1], title=\"II\", cmap=\"coolwarm\")\n",
    "hp.mollview(wcov[1], sub=[3, 3, 2], title=\"IQ\", cmap=\"coolwarm\")\n",
    "hp.mollview(wcov[2], sub=[3, 3, 3], title=\"IU\", cmap=\"coolwarm\")\n",
    "hp.mollview(wcov[3], sub=[3, 3, 5], title=\"QQ\", cmap=\"coolwarm\")\n",
    "hp.mollview(wcov[4], sub=[3, 3, 6], title=\"QU\", cmap=\"coolwarm\")\n",
    "hp.mollview(wcov[5], sub=[3, 3, 9], title=\"UU\", cmap=\"coolwarm\")"
   ]
  },
  {
   "cell_type": "markdown",
   "metadata": {},
   "source": [
    "## Filter & bin\n",
    "\n",
    "A filter-and-bin mapmaker is easily created by combining TOAST filter operators and running the mapmaker without destriping:"
   ]
  },
  {
   "cell_type": "code",
   "execution_count": null,
   "metadata": {},
   "outputs": [],
   "source": [
    "filtered_name = \"filtered\"\n",
    "\n",
    "toast.tod.OpCacheCopy(input=copy_name, output=filtered_name, force=True).exec(data)\n",
    "\n",
    "toast.tod.OpPolyFilter(order=3, name=filtered_name).exec(data)\n",
    "\n",
    "mapmaker = toast.todmap.OpMapMaker(\n",
    "    nside=args.nside,\n",
    "    nnz=len(args.mode),\n",
    "    name=filtered_name,\n",
    "    outdir=args.outdir,\n",
    "    outprefix=\"toast_test_filtered_\",\n",
    "    baseline_length=None,\n",
    ")\n",
    "mapmaker.exec(data)\n",
    "\n",
    "plt.figure(figsize=[16, 8])\n",
    "\n",
    "binmap = hp.read_map(\"maps/toast_test_binned.fits\", verbose=False)\n",
    "binmap[binmap == 0] = hp.UNSEEN\n",
    "hp.mollview(binmap, sub=[1, 3, 1], title=\"binned map\", cmap=\"coolwarm\")\n",
    "\n",
    "filtered_map = hp.read_map(\"maps/toast_test_filtered_binned.fits\", verbose=False)\n",
    "filtered_map[filtered_map == 0] = hp.UNSEEN\n",
    "hp.mollview(filtered_map, sub=[1, 3, 2], title=\"filtered map\", cmap=\"coolwarm\")\n",
    "\n",
    "inmap = hp.read_map(\"sim_map.fits\", verbose=False)\n",
    "inmap[binmap == hp.UNSEEN] = hp.UNSEEN\n",
    "hp.mollview(inmap, sub=[1, 3, 3], title=\"input map\", cmap=\"coolwarm\")"
   ]
  }
 ],
 "metadata": {
  "kernelspec": {
   "display_name": "Python 3",
   "language": "python",
   "name": "python3"
  },
  "language_info": {
   "codemirror_mode": {
    "name": "ipython",
    "version": 3
   },
   "file_extension": ".py",
   "mimetype": "text/x-python",
   "name": "python",
   "nbconvert_exporter": "python",
   "pygments_lexer": "ipython3",
   "version": "3.7.6"
  }
 },
 "nbformat": 4,
 "nbformat_minor": 4
}
